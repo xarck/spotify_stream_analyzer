{
 "cells": [
  {
   "cell_type": "code",
   "execution_count": 3,
   "metadata": {},
   "outputs": [],
   "source": [
    "import json\n",
    "import os"
   ]
  },
  {
   "cell_type": "code",
   "execution_count": 4,
   "metadata": {},
   "outputs": [],
   "source": [
    "lib = {}"
   ]
  },
  {
   "cell_type": "code",
   "execution_count": 5,
   "metadata": {},
   "outputs": [],
   "source": [
    "def getStreams(path):\n",
    "    f = open(path, encoding=\"utf8\")\n",
    "    data = json.load(f)\n",
    "    for song in data:\n",
    "        if(song['artistName']=='Unknown Artist'):\n",
    "            continue\n",
    "        if(song['artistName'] in list(lib.keys()) ):\n",
    "            flag = 0\n",
    "            for i,track in enumerate(lib[song['artistName']]):\n",
    "                if(song['trackName'] == track['title']):\n",
    "                    flag=1\n",
    "                    break        \n",
    "            if(flag):\n",
    "                lib[song['artistName']][i]['streams'] +=1\n",
    "                lib[song['artistName']] = sorted(lib[song['artistName']],reverse=True, key = lambda i: i['streams'])\n",
    "            else:\n",
    "                lib[song['artistName']].append({\n",
    "                    'title':song['trackName'],\n",
    "                    'streams':1\n",
    "                }) \n",
    "        else:\n",
    "            lib[song['artistName']] = [{\n",
    "                'title':song['trackName'],\n",
    "                'streams':1\n",
    "            }]"
   ]
  },
  {
   "cell_type": "code",
   "execution_count": 6,
   "metadata": {},
   "outputs": [],
   "source": [
    "for i in range(len(os.listdir('./2023_raw_data'))):\n",
    "    path = './2023_raw_data/StreamingHistory'+ str(i)+'.json'\n",
    "    getStreams(path)"
   ]
  },
  {
   "cell_type": "code",
   "execution_count": 7,
   "metadata": {},
   "outputs": [],
   "source": [
    "with open(\"./2023_stats/topTrackSample.json\", \"w\") as outfile:\n",
    "    json.dump(lib, outfile)"
   ]
  },
  {
   "cell_type": "code",
   "execution_count": 8,
   "metadata": {},
   "outputs": [],
   "source": [
    "f = open('./2023_stats/topTrackSample.json',encoding='utf8')\n",
    "data = json.load(f)\n",
    "data = {k:v for k,v in sorted(data.items(),reverse=True,key=lambda item:len(item[1]))}"
   ]
  },
  {
   "cell_type": "code",
   "execution_count": 9,
   "metadata": {},
   "outputs": [],
   "source": [
    "with open(\"./2023_stats/topTracks.json\", \"w\") as outfile:\n",
    "    json.dump(data, outfile)"
   ]
  }
 ],
 "metadata": {
  "kernelspec": {
   "display_name": "Python 3",
   "language": "python",
   "name": "python3"
  },
  "language_info": {
   "codemirror_mode": {
    "name": "ipython",
    "version": 3
   },
   "file_extension": ".py",
   "mimetype": "text/x-python",
   "name": "python",
   "nbconvert_exporter": "python",
   "pygments_lexer": "ipython3",
   "version": "3.9.0"
  },
  "orig_nbformat": 4,
  "vscode": {
   "interpreter": {
    "hash": "e665b74af24a49631f040b8b7c1cdf816c9acaf2f58bbe39260df961067cd65f"
   }
  }
 },
 "nbformat": 4,
 "nbformat_minor": 2
}
