{
 "cells": [
  {
   "cell_type": "code",
   "execution_count": 1,
   "metadata": {},
   "outputs": [],
   "source": [
    "import json\n",
    "import math\n",
    "import os"
   ]
  },
  {
   "cell_type": "code",
   "execution_count": 2,
   "metadata": {},
   "outputs": [],
   "source": [
    "path = 'history'\n",
    "history = os.listdir(path)"
   ]
  },
  {
   "cell_type": "code",
   "execution_count": 3,
   "metadata": {},
   "outputs": [],
   "source": [
    "songs = {}\n",
    "artists = {}\n",
    "artist = {}"
   ]
  },
  {
   "cell_type": "code",
   "execution_count": 4,
   "metadata": {},
   "outputs": [],
   "source": [
    "def countStreams(loc):\n",
    "    f = open(os.path.join(path,loc),encoding='utf8')\n",
    "    data = json.load(f)\n",
    "    for song in data:\n",
    "        track_title = song['master_metadata_track_name']\n",
    "        ms_played = song['ms_played']\n",
    "        if(track_title!=None):\n",
    "            if(track_title not in songs):\n",
    "                songs[track_title] = {\n",
    "                    'streams':1,\n",
    "                    \"m_played\": ms_played/60000\n",
    "                }\n",
    "            else:\n",
    "                songs[track_title]['streams'] +=1\n",
    "                songs[track_title]['m_played']+=ms_played/60000\n"
   ]
  },
  {
   "cell_type": "code",
   "execution_count": 5,
   "metadata": {},
   "outputs": [],
   "source": [
    "def artistStream(loc):\n",
    "    f = open(os.path.join(path,loc),encoding='utf8')\n",
    "    data = json.load(f)\n",
    "    for song in data:\n",
    "        artist_name = song['master_metadata_album_artist_name']\n",
    "        ms_played = song['ms_played']\n",
    "        if(artist_name!=None):\n",
    "            if(artist_name not in artist):\n",
    "                artist[artist_name] = {\n",
    "                    'streams' : 1,\n",
    "                    'h_played': ms_played/60000\n",
    "                }\n",
    "            else:\n",
    "                artist[artist_name]['streams']+=1\n",
    "                artist[artist_name]['h_played']+=ms_played/60000"
   ]
  },
  {
   "cell_type": "code",
   "execution_count": 6,
   "metadata": {},
   "outputs": [],
   "source": [
    "def artistStreams(loc):\n",
    "    f = open(os.path.join(path,loc),encoding='utf8')\n",
    "    data = json.load(f)\n",
    "    for song in data:\n",
    "        artist_name = song['master_metadata_album_artist_name']\n",
    "        track_name = song['master_metadata_track_name']\n",
    "        ms_played = song['ms_played']\n",
    "        if(artist_name!=None):\n",
    "            if(artist_name not in artists):\n",
    "                artists[artist_name] = [{\n",
    "                    'track_name': track_name,\n",
    "                    'streams':1,\n",
    "                    'm_played':ms_played/60000,\n",
    "                }]\n",
    "            else:\n",
    "                flag = 0\n",
    "                for i,track in enumerate(artists[artist_name]):\n",
    "                    if(track['track_name'] == track_name):\n",
    "                        flag=1\n",
    "                        break \n",
    "                if(flag):\n",
    "                    artists[artist_name][i]['streams']+=1\n",
    "                    artists[artist_name][i]['m_played']+=ms_played/60000\n",
    "                    artists[artist_name] = sorted(artists[artist_name],reverse=True, key = lambda i: i['streams'])  \n",
    "                else:\n",
    "                    artists[artist_name].append({\n",
    "                        'track_name': track_name,\n",
    "                        'streams':1,\n",
    "                        'm_played':ms_played/60000\n",
    "                    })"
   ]
  },
  {
   "cell_type": "code",
   "execution_count": 7,
   "metadata": {},
   "outputs": [],
   "source": [
    "for  loc in history:\n",
    "    countStreams(loc)\n",
    "    # artistStreams(loc)\n",
    "    # artistStream(loc)"
   ]
  },
  {
   "cell_type": "code",
   "execution_count": 8,
   "metadata": {},
   "outputs": [],
   "source": [
    "for k,v in artist.items():\n",
    "    artist[k]['h_played']/=60\n",
    "    artist[k]['h_played'] = int(artist[k]['h_played'])"
   ]
  },
  {
   "cell_type": "code",
   "execution_count": 10,
   "metadata": {},
   "outputs": [],
   "source": [
    "# artist = {k:v for k,v in sorted(artist.items(),reverse=True,key=lambda item:item[1]['h_played'])}\n",
    "# with open(\"./temp.json\", \"w\") as outfile:\n",
    "#     json.dump(artist, outfile)"
   ]
  },
  {
   "cell_type": "code",
   "execution_count": null,
   "metadata": {},
   "outputs": [],
   "source": [
    "# artists = {k:v for k,v in sorted(artists.items(),reverse=True,key=lambda item:len(item[1]))}\n",
    "# with open(\"./artists.json\", \"w\") as outfile:\n",
    "#     json.dump(artists, outfile)"
   ]
  },
  {
   "cell_type": "code",
   "execution_count": null,
   "metadata": {},
   "outputs": [],
   "source": [
    "songs = {k:v for k,v in sorted(songs.items(),reverse=True,key=lambda item:item[1]['m_played'])}\n",
    "with open(\"./tracks.json\", \"w\") as outfile:\n",
    "    json.dump(songs, outfile)"
   ]
  }
 ],
 "metadata": {
  "kernelspec": {
   "display_name": "Python 3",
   "language": "python",
   "name": "python3"
  },
  "language_info": {
   "codemirror_mode": {
    "name": "ipython",
    "version": 3
   },
   "file_extension": ".py",
   "mimetype": "text/x-python",
   "name": "python",
   "nbconvert_exporter": "python",
   "pygments_lexer": "ipython3",
   "version": "3.9.0 (tags/v3.9.0:9cf6752, Oct  5 2020, 15:34:40) [MSC v.1927 64 bit (AMD64)]"
  },
  "orig_nbformat": 4,
  "vscode": {
   "interpreter": {
    "hash": "e665b74af24a49631f040b8b7c1cdf816c9acaf2f58bbe39260df961067cd65f"
   }
  }
 },
 "nbformat": 4,
 "nbformat_minor": 2
}
