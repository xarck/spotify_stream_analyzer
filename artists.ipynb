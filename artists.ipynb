{
 "cells": [
  {
   "cell_type": "code",
   "execution_count": 14,
   "metadata": {},
   "outputs": [],
   "source": [
    "import json\n",
    "import os"
   ]
  },
  {
   "cell_type": "code",
   "execution_count": 15,
   "metadata": {},
   "outputs": [],
   "source": [
    "lib = {}"
   ]
  },
  {
   "cell_type": "code",
   "execution_count": 16,
   "metadata": {},
   "outputs": [],
   "source": [
    "def getStreams(path):\n",
    "    f = open(path, encoding=\"utf8\")\n",
    "    data = json.load(f)\n",
    "    for song in data:\n",
    "        if(song['artistName'] in list(lib.keys()) ):\n",
    "            lib[song['artistName']]+=1 \n",
    "        else:\n",
    "            lib[song['artistName']]=0\n",
    "    "
   ]
  },
  {
   "cell_type": "code",
   "execution_count": 17,
   "metadata": {},
   "outputs": [],
   "source": [
    "for i in range(len(os.listdir('./raw_data'))):\n",
    "    path = './raw_data/StreamingHistory'+ str(i)+'.json'\n",
    "    getStreams(path)"
   ]
  },
  {
   "cell_type": "code",
   "execution_count": 18,
   "metadata": {},
   "outputs": [],
   "source": [
    "with open(\"./stats/artistSample.json\", \"w\") as outfile:\n",
    "    json.dump(lib, outfile)"
   ]
  },
  {
   "cell_type": "code",
   "execution_count": 19,
   "metadata": {},
   "outputs": [],
   "source": [
    "f = open('./stats/artistSample.json',encoding='utf8')\n",
    "data = json.load(f)\n",
    "data = {k:v for k,v in sorted(data.items(),reverse=True,key=lambda item:item[1])}"
   ]
  },
  {
   "cell_type": "code",
   "execution_count": 20,
   "metadata": {},
   "outputs": [],
   "source": [
    "with open(\"./stats/artists.json\", \"w\") as outfile:\n",
    "    json.dump(data, outfile)"
   ]
  }
 ],
 "metadata": {
  "kernelspec": {
   "display_name": "Python 3",
   "language": "python",
   "name": "python3"
  },
  "language_info": {
   "codemirror_mode": {
    "name": "ipython",
    "version": 3
   },
   "file_extension": ".py",
   "mimetype": "text/x-python",
   "name": "python",
   "nbconvert_exporter": "python",
   "pygments_lexer": "ipython3",
   "version": "3.9.0"
  },
  "orig_nbformat": 4,
  "vscode": {
   "interpreter": {
    "hash": "e665b74af24a49631f040b8b7c1cdf816c9acaf2f58bbe39260df961067cd65f"
   }
  }
 },
 "nbformat": 4,
 "nbformat_minor": 2
}
