{
 "cells": [
  {
   "cell_type": "code",
   "execution_count": 1,
   "metadata": {},
   "outputs": [],
   "source": [
    "import json"
   ]
  },
  {
   "cell_type": "code",
   "execution_count": 2,
   "metadata": {},
   "outputs": [],
   "source": [
    "f1 = open('./2023_stats/artists.json',encoding='utf8')\n",
    "f2 = open('./2022_stats/artists.json',encoding='utf8')\n",
    "\n",
    "a1 = json.load(f1)\n",
    "a2 = json.load(f2)\n",
    "\n",
    "lib = {}\n",
    "\n",
    "for i in a1.keys():\n",
    "    if(a1[i]==0):\n",
    "        continue\n",
    "    if(i in a2):\n",
    "        lib[i] = (a1[i]-a2[i])/a1[i]\n",
    "    else:\n",
    "        lib[i] = a1[i]\n",
    "data = {k:v for k,v in sorted(lib.items(),reverse=True,key=lambda item:item[1])}"
   ]
  },
  {
   "cell_type": "code",
   "execution_count": 3,
   "metadata": {},
   "outputs": [],
   "source": [
    "with open(\"./comparison/comp.json\", \"w\") as outfile:\n",
    "    json.dump(data, outfile)"
   ]
  }
 ],
 "metadata": {
  "kernelspec": {
   "display_name": "Python 3",
   "language": "python",
   "name": "python3"
  },
  "language_info": {
   "codemirror_mode": {
    "name": "ipython",
    "version": 3
   },
   "file_extension": ".py",
   "mimetype": "text/x-python",
   "name": "python",
   "nbconvert_exporter": "python",
   "pygments_lexer": "ipython3",
   "version": "3.9.0"
  },
  "orig_nbformat": 4,
  "vscode": {
   "interpreter": {
    "hash": "e665b74af24a49631f040b8b7c1cdf816c9acaf2f58bbe39260df961067cd65f"
   }
  }
 },
 "nbformat": 4,
 "nbformat_minor": 2
}
