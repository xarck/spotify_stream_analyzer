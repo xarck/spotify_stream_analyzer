{
 "cells": [
  {
   "cell_type": "code",
   "execution_count": 15,
   "metadata": {},
   "outputs": [],
   "source": [
    "import json"
   ]
  },
  {
   "cell_type": "code",
   "execution_count": 16,
   "metadata": {},
   "outputs": [],
   "source": [
    "lib = {}"
   ]
  },
  {
   "cell_type": "code",
   "execution_count": 17,
   "metadata": {},
   "outputs": [],
   "source": [
    "def getStreams(path):\n",
    "    f = open(path, encoding=\"utf8\")\n",
    "    data = json.load(f)\n",
    "    for song in data:\n",
    "        if(song['artistName'] in list(lib.keys()) ):\n",
    "            flag = 0\n",
    "            for i,track in enumerate(lib[song['artistName']]):\n",
    "                if(song['trackName'] == track['title']):\n",
    "                    flag=1\n",
    "                    break        \n",
    "            if(flag):\n",
    "                lib[song['artistName']][i]['streams'] +=1\n",
    "                lib[song['artistName']] = sorted(lib[song['artistName']],reverse=True, key = lambda i: i['streams'])\n",
    "            else:\n",
    "                lib[song['artistName']].append({\n",
    "                    'title':song['trackName'],\n",
    "                    'streams':1\n",
    "                }) \n",
    "        else:\n",
    "            lib[song['artistName']] = [{\n",
    "                'title':song['trackName'],\n",
    "                'streams':1\n",
    "            }]"
   ]
  },
  {
   "cell_type": "code",
   "execution_count": 18,
   "metadata": {},
   "outputs": [],
   "source": [
    "for i in range(7):\n",
    "    path = './raw_data/StreamingHistory'+ str(i)+'.json'\n",
    "    getStreams(path)"
   ]
  },
  {
   "cell_type": "code",
   "execution_count": 19,
   "metadata": {},
   "outputs": [],
   "source": [
    "with open(\"./stats/topTrackSample.json\", \"w\") as outfile:\n",
    "    json.dump(lib, outfile)"
   ]
  },
  {
   "cell_type": "code",
   "execution_count": 20,
   "metadata": {},
   "outputs": [],
   "source": [
    "f = open('./stats/topTrackSample.json',encoding='utf8')\n",
    "data = json.load(f)\n",
    "data = {k:v for k,v in sorted(data.items(),reverse=True,key=lambda item:len(item[1]))}"
   ]
  },
  {
   "cell_type": "code",
   "execution_count": 21,
   "metadata": {},
   "outputs": [],
   "source": [
    "with open(\"./stats/topTracks.json\", \"w\") as outfile:\n",
    "    json.dump(data, outfile)"
   ]
  }
 ],
 "metadata": {
  "interpreter": {
   "hash": "a12d694c3ccac42055183a0ad11e659c6a2db5c6555ad2c8919d5814fd4e404f"
  },
  "kernelspec": {
   "display_name": "Python 3.9.7 64-bit",
   "language": "python",
   "name": "python3"
  },
  "language_info": {
   "codemirror_mode": {
    "name": "ipython",
    "version": 3
   },
   "file_extension": ".py",
   "mimetype": "text/x-python",
   "name": "python",
   "nbconvert_exporter": "python",
   "pygments_lexer": "ipython3",
   "version": "3.9.7"
  },
  "orig_nbformat": 4
 },
 "nbformat": 4,
 "nbformat_minor": 2
}
